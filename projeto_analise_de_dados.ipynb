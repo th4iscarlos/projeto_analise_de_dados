{
  "nbformat": 4,
  "nbformat_minor": 0,
  "metadata": {
    "colab": {
      "provenance": [],
      "authorship_tag": "ABX9TyMHCTAmBINuscgm52vFoylv",
      "include_colab_link": true
    },
    "kernelspec": {
      "name": "python3",
      "display_name": "Python 3"
    },
    "language_info": {
      "name": "python"
    }
  },
  "cells": [
    {
      "cell_type": "markdown",
      "metadata": {
        "id": "view-in-github",
        "colab_type": "text"
      },
      "source": [
        "<a href=\"https://colab.research.google.com/github/th4iscarlos/projeto_analise_de_dados/blob/main/projeto_analise_de_dados.ipynb\" target=\"_parent\"><img src=\"https://colab.research.google.com/assets/colab-badge.svg\" alt=\"Open In Colab\"/></a>"
      ]
    },
    {
      "cell_type": "code",
      "execution_count": null,
      "metadata": {
        "id": "T6OmD3boikrG"
      },
      "outputs": [],
      "source": [
        "import pandas as pd\n",
        "url = 'https://raw.githubusercontent.com/justmarkham/DAT8/master/data/chipotle.tsv'\n",
        "chipo = pd.read_csv(url,  delimiter='\\t')\n",
        "\n",
        "\n"
      ]
    },
    {
      "cell_type": "code",
      "source": [
        "# 10 primeiras entradas\n",
        "print(chipo.head(10))"
      ],
      "metadata": {
        "id": "cSN3W5J8nFw9",
        "colab": {
          "base_uri": "https://localhost:8080/"
        },
        "outputId": "b8cd2cc9-a58f-4a18-8088-1ca27adb0872"
      },
      "execution_count": null,
      "outputs": [
        {
          "output_type": "stream",
          "name": "stdout",
          "text": [
            "   order_id  quantity                              item_name  \\\n",
            "0         1         1           Chips and Fresh Tomato Salsa   \n",
            "1         1         1                                   Izze   \n",
            "2         1         1                       Nantucket Nectar   \n",
            "3         1         1  Chips and Tomatillo-Green Chili Salsa   \n",
            "4         2         2                           Chicken Bowl   \n",
            "5         3         1                           Chicken Bowl   \n",
            "6         3         1                          Side of Chips   \n",
            "7         4         1                          Steak Burrito   \n",
            "8         4         1                       Steak Soft Tacos   \n",
            "9         5         1                          Steak Burrito   \n",
            "\n",
            "                                  choice_description item_price  \n",
            "0                                                NaN     $2.39   \n",
            "1                                       [Clementine]     $3.39   \n",
            "2                                            [Apple]     $3.39   \n",
            "3                                                NaN     $2.39   \n",
            "4  [Tomatillo-Red Chili Salsa (Hot), [Black Beans...    $16.98   \n",
            "5  [Fresh Tomato Salsa (Mild), [Rice, Cheese, Sou...    $10.98   \n",
            "6                                                NaN     $1.69   \n",
            "7  [Tomatillo Red Chili Salsa, [Fajita Vegetables...    $11.75   \n",
            "8  [Tomatillo Green Chili Salsa, [Pinto Beans, Ch...     $9.25   \n",
            "9  [Fresh Tomato Salsa, [Rice, Black Beans, Pinto...     $9.25   \n"
          ]
        }
      ]
    },
    {
      "cell_type": "code",
      "execution_count": null,
      "metadata": {
        "colab": {
          "base_uri": "https://localhost:8080/"
        },
        "outputId": "01d42d72-9ee6-4df1-c380-1dd962bd9cab",
        "id": "lIdlsT7i8H9O"
      },
      "outputs": [
        {
          "output_type": "stream",
          "name": "stdout",
          "text": [
            "O número de colunas é: 5\n"
          ]
        }
      ],
      "source": [
        "\n",
        "\n",
        "# numero de colunas\n",
        "num_colunas = chipo.shape[1]\n",
        "print(f'O número de colunas é: {num_colunas}')\n",
        "\n"
      ]
    },
    {
      "cell_type": "code",
      "source": [
        "# Função para imprimir os nomes das colunas\n",
        "def imprimir_nomes_colunas(dataframe):\n",
        "    nomes_colunas = dataframe.columns\n",
        "    for nome in nomes_colunas:\n",
        "        print(nome)"
      ],
      "metadata": {
        "id": "8Ow_tzDM8R4u"
      },
      "execution_count": null,
      "outputs": []
    },
    {
      "cell_type": "code",
      "source": [
        "# nome das colunas\n",
        "imprimir_nomes_colunas(chipo)"
      ],
      "metadata": {
        "colab": {
          "base_uri": "https://localhost:8080/"
        },
        "id": "FNoVq6Qq8XAD",
        "outputId": "1d09e69f-e562-47e3-c4ce-ed758945e5ba"
      },
      "execution_count": null,
      "outputs": [
        {
          "output_type": "stream",
          "name": "stdout",
          "text": [
            "order_id\n",
            "quantity\n",
            "item_name\n",
            "choice_description\n",
            "item_price\n"
          ]
        }
      ]
    },
    {
      "cell_type": "code",
      "source": [
        "# produto mais pedido? Quantas vezes ele foi pedido?\n",
        "produtos_mais_pedidos = chipo.groupby('item_name')['quantity'].sum()\n",
        "produto_mais_pedido = produtos_mais_pedidos.idxmax()\n",
        "print(f'O produto mais pedido é: {produto_mais_pedido}')\n",
        "\n",
        "quantidade_mais_pedido = produtos_mais_pedidos.max()\n",
        "print(f'Foi pedido {quantidade_mais_pedido} vezes.')\n",
        "\n",
        "# Qual foi o pedido mais pedido dentro da coluna choice_description?\n",
        "contagem_pedidos = chipo.groupby('choice_description')['quantity'].sum()\n",
        "pedido_mais_pedido = contagem_pedidos.index[0]\n",
        "ocorrencias_pedido_mais_pedido = contagem_pedidos.iloc[0]\n",
        "print(f\"O pedido mais pedido na coluna choice_description é '{pedido_mais_pedido}' com {ocorrencias_pedido_mais_pedido} ocorrências.\")\n"
      ],
      "metadata": {
        "colab": {
          "base_uri": "https://localhost:8080/"
        },
        "id": "qICYYmjA8aGv",
        "outputId": "049d79ec-2a0b-40cf-bbfd-81904d685c38"
      },
      "execution_count": null,
      "outputs": [
        {
          "output_type": "stream",
          "name": "stdout",
          "text": [
            "O produto mais pedido é: Chicken Bowl\n",
            "Foi pedido 761 vezes.\n",
            "O pedido mais pedido na coluna choice_description é '[Adobo-Marinated and Grilled Chicken, Pinto Beans, [Sour Cream, Salsa, Cheese, Cilantro-Lime Rice, Guacamole]]' com 1 ocorrências.\n"
          ]
        }
      ]
    },
    {
      "cell_type": "code",
      "source": [
        "#Quantos itens foram pedidos no total?\n",
        "total_pedidos = chipo[\"quantity\"].sum()\n",
        "\n",
        "print(\"Total de pedidos:\", total_pedidos)\n"
      ],
      "metadata": {
        "colab": {
          "base_uri": "https://localhost:8080/"
        },
        "id": "W2xqWN2fzNYe",
        "outputId": "a3b123f4-1e34-467f-d700-68359b2d4d65"
      },
      "execution_count": null,
      "outputs": [
        {
          "output_type": "stream",
          "name": "stdout",
          "text": [
            "Total de pedidos: 4972\n"
          ]
        }
      ]
    },
    {
      "cell_type": "code",
      "source": [
        "chipo.info()"
      ],
      "metadata": {
        "colab": {
          "base_uri": "https://localhost:8080/"
        },
        "id": "mlKf17bGpGO9",
        "outputId": "87c7eb1b-704e-487a-9711-278efcc37bba"
      },
      "execution_count": null,
      "outputs": [
        {
          "output_type": "stream",
          "name": "stdout",
          "text": [
            "<class 'pandas.core.frame.DataFrame'>\n",
            "RangeIndex: 4622 entries, 0 to 4621\n",
            "Data columns (total 5 columns):\n",
            " #   Column              Non-Null Count  Dtype \n",
            "---  ------              --------------  ----- \n",
            " 0   order_id            4622 non-null   int64 \n",
            " 1   quantity            4622 non-null   int64 \n",
            " 2   item_name           4622 non-null   object\n",
            " 3   choice_description  3376 non-null   object\n",
            " 4   item_price          4622 non-null   object\n",
            "dtypes: int64(2), object(3)\n",
            "memory usage: 180.7+ KB\n"
          ]
        }
      ]
    },
    {
      "cell_type": "code",
      "source": [
        "# Qual foi o valor recebido para o período representado nessa base de dados?\n",
        "chipo['item_price'] = chipo['item_price'].str.replace('$', '').astype(float)\n",
        "valor_recebido = (chipo['quantity'] * chipo['item_price']).sum()\n",
        "print(\"O valor total recebido foi:\", valor_recebido)"
      ],
      "metadata": {
        "id": "3mn2xGMoTg_r",
        "colab": {
          "base_uri": "https://localhost:8080/"
        },
        "outputId": "077976fd-ceca-43f0-9f4e-5ea9c1307117"
      },
      "execution_count": null,
      "outputs": [
        {
          "output_type": "stream",
          "name": "stdout",
          "text": [
            "O valor total recebido foi: 39237.02\n"
          ]
        },
        {
          "output_type": "stream",
          "name": "stderr",
          "text": [
            "<ipython-input-9-93e18a78980d>:2: FutureWarning: The default value of regex will change from True to False in a future version. In addition, single character regular expressions will *not* be treated as literal strings when regex=True.\n",
            "  chipo['item_price'] = chipo['item_price'].str.replace('$', '').astype(float)\n"
          ]
        }
      ]
    },
    {
      "cell_type": "code",
      "source": [
        "#Qual a média do valor recebido por pedido?\n",
        "media_pedidos = valor_recebido / total_pedidos\n",
        "print(\"Média do valor recebido por pedido:\", media_pedidos)"
      ],
      "metadata": {
        "id": "QHeqg5kRprf-",
        "colab": {
          "base_uri": "https://localhost:8080/"
        },
        "outputId": "5287368d-94fc-4f73-eb77-f7aa70a1e5a7"
      },
      "execution_count": null,
      "outputs": [
        {
          "output_type": "stream",
          "name": "stdout",
          "text": [
            "Média do valor recebido por pedido: 7.8915969428801285\n"
          ]
        }
      ]
    },
    {
      "cell_type": "code",
      "source": [
        "#Quantos produtos custam mais de $10?\n",
        "produtos_acima_de_10 = (chipo['item_price'] > 10).sum()\n",
        "print(f\"Quantidade de itens acima de ${10}: {produtos_acima_de_10} itens\")"
      ],
      "metadata": {
        "colab": {
          "base_uri": "https://localhost:8080/"
        },
        "id": "V1HIyyPXR0y7",
        "outputId": "4ccee89f-0e0e-44f8-c16b-228a2fd24397"
      },
      "execution_count": null,
      "outputs": [
        {
          "output_type": "stream",
          "name": "stdout",
          "text": [
            "Quantidade de itens acima de $10: 1130 itens\n"
          ]
        }
      ]
    },
    {
      "cell_type": "code",
      "source": [
        "#Qual o preço para cada um deles?\n",
        "preco_produtos_acima_de_10 = chipo[chipo['item_price'] > 10]\n",
        "print(preco_produtos_acima_de_10)"
      ],
      "metadata": {
        "colab": {
          "base_uri": "https://localhost:8080/"
        },
        "id": "rhFf0zboWONN",
        "outputId": "9584191f-36e5-4f2c-fcbd-e18c4d85ca06"
      },
      "execution_count": null,
      "outputs": [
        {
          "output_type": "stream",
          "name": "stdout",
          "text": [
            "      order_id  quantity           item_name  \\\n",
            "4            2         2        Chicken Bowl   \n",
            "5            3         1        Chicken Bowl   \n",
            "7            4         1       Steak Burrito   \n",
            "13           7         1        Chicken Bowl   \n",
            "23          12         1     Chicken Burrito   \n",
            "...        ...       ...                 ...   \n",
            "4610      1830         1       Steak Burrito   \n",
            "4611      1830         1      Veggie Burrito   \n",
            "4617      1833         1       Steak Burrito   \n",
            "4618      1833         1       Steak Burrito   \n",
            "4619      1834         1  Chicken Salad Bowl   \n",
            "\n",
            "                                     choice_description  item_price  \n",
            "4     [Tomatillo-Red Chili Salsa (Hot), [Black Beans...       16.98  \n",
            "5     [Fresh Tomato Salsa (Mild), [Rice, Cheese, Sou...       10.98  \n",
            "7     [Tomatillo Red Chili Salsa, [Fajita Vegetables...       11.75  \n",
            "13    [Fresh Tomato Salsa, [Fajita Vegetables, Rice,...       11.25  \n",
            "23    [[Tomatillo-Green Chili Salsa (Medium), Tomati...       10.98  \n",
            "...                                                 ...         ...  \n",
            "4610  [Fresh Tomato Salsa, [Rice, Sour Cream, Cheese...       11.75  \n",
            "4611  [Tomatillo Green Chili Salsa, [Rice, Fajita Ve...       11.25  \n",
            "4617  [Fresh Tomato Salsa, [Rice, Black Beans, Sour ...       11.75  \n",
            "4618  [Fresh Tomato Salsa, [Rice, Sour Cream, Cheese...       11.75  \n",
            "4619  [Fresh Tomato Salsa, [Fajita Vegetables, Pinto...       11.25  \n",
            "\n",
            "[1130 rows x 5 columns]\n"
          ]
        }
      ]
    },
    {
      "cell_type": "code",
      "source": [
        "#Ordene os itens que custam mais de $10 por ordem alfabética.\n",
        "produtos_acima_de_10_ordenado = preco_produtos_acima_de_10.sort_values(by='item_name')\n",
        "print(produtos_acima_de_10_ordenado)"
      ],
      "metadata": {
        "colab": {
          "base_uri": "https://localhost:8080/"
        },
        "id": "Sxj0obqoliss",
        "outputId": "cb8426f6-d7d4-4e82-fdce-a9e3bccbe796"
      },
      "execution_count": null,
      "outputs": [
        {
          "output_type": "stream",
          "name": "stdout",
          "text": [
            "      order_id  quantity          item_name  \\\n",
            "3389      1360         2  6 Pack Soft Drink   \n",
            "1643       664         1      Barbacoa Bowl   \n",
            "919        380         1      Barbacoa Bowl   \n",
            "3547      1426         1      Barbacoa Bowl   \n",
            "4510      1793         1      Barbacoa Bowl   \n",
            "...        ...       ...                ...   \n",
            "186         83         1  Veggie Salad Bowl   \n",
            "295        128         1  Veggie Salad Bowl   \n",
            "3889      1559         2  Veggie Soft Tacos   \n",
            "738        304         1  Veggie Soft Tacos   \n",
            "1699       688         1  Veggie Soft Tacos   \n",
            "\n",
            "                                     choice_description  item_price  \n",
            "3389                                        [Diet Coke]       12.98  \n",
            "1643  [Fresh Tomato Salsa, [Rice, Black Beans, Chees...       11.75  \n",
            "919   [Tomatillo Red Chili Salsa, [Fajita Vegetables...       11.75  \n",
            "3547  [Fresh Tomato Salsa, [Rice, Cheese, Sour Cream...       11.75  \n",
            "4510                                        [Guacamole]       11.49  \n",
            "...                                                 ...         ...  \n",
            "186   [Fresh Tomato Salsa, [Fajita Vegetables, Rice,...       11.25  \n",
            "295   [Fresh Tomato Salsa, [Fajita Vegetables, Lettu...       11.25  \n",
            "3889  [Fresh Tomato Salsa (Mild), [Black Beans, Rice...       16.98  \n",
            "738   [Tomatillo Red Chili Salsa, [Fajita Vegetables...       11.25  \n",
            "1699  [Fresh Tomato Salsa, [Fajita Vegetables, Rice,...       11.25  \n",
            "\n",
            "[1130 rows x 5 columns]\n"
          ]
        }
      ]
    },
    {
      "cell_type": "code",
      "source": [
        "#Quantas vezes o item mais caro foi pedido?\n",
        "\n",
        "item_mais_caro = chipo[chipo['item_price'] == chipo['item_price'].max()]\n",
        "quantidade_item_mais_caro = len(item_mais_caro)\n",
        "print(f\"O item mais caro foi pedido {quantidade_item_mais_caro} vezes.\")\n",
        "\n",
        "\n"
      ],
      "metadata": {
        "id": "niw2WwzXpQfg",
        "colab": {
          "base_uri": "https://localhost:8080/"
        },
        "outputId": "e6996a7a-813b-4712-c911-5fcffcdd2154"
      },
      "execution_count": null,
      "outputs": [
        {
          "output_type": "stream",
          "name": "stdout",
          "text": [
            "O item mais caro foi pedido 1 vezes.\n"
          ]
        }
      ]
    },
    {
      "cell_type": "code",
      "source": [
        "#Quantas vezes uma Veggie Salad Bowl foi pedida?\n",
        "quantidade_veggiesbowl = chipo[chipo['item_name'] == 'Veggie Salad Bowl']['quantity'].sum()\n",
        "\n",
        "print(f\"O item 'Veggie Salad Bowl' foi pedido {quantidade_veggiesbowl} vezes.\")"
      ],
      "metadata": {
        "colab": {
          "base_uri": "https://localhost:8080/"
        },
        "id": "fWVWExb9H8aq",
        "outputId": "f6afaf79-618a-4bcb-b78d-3bd9b5c11830"
      },
      "execution_count": null,
      "outputs": [
        {
          "output_type": "stream",
          "name": "stdout",
          "text": [
            "O item 'Veggie Salad Bowl' foi pedido 18 vezes.\n"
          ]
        }
      ]
    },
    {
      "cell_type": "code",
      "source": [
        "#Crie um histograma com os 5 produtos mais pedidos.\n",
        "\n",
        "import matplotlib.pyplot as plt\n",
        "\n",
        "contagem_itens = chipo['item_name'].value_counts().head(5)\n",
        "plt.figure(figsize=(10, 6))\n",
        "contagem_itens.plot(kind='bar', color='orange')\n",
        "plt.title('Os 5 itens mais pedidos')\n",
        "plt.xlabel('Itens')\n",
        "plt.ylabel('Quantidade de Pedidos')\n",
        "plt.xticks(rotation=45)\n",
        "plt.show()\n",
        "\n"
      ],
      "metadata": {
        "colab": {
          "base_uri": "https://localhost:8080/",
          "height": 668
        },
        "id": "IIJKc7zhSmNn",
        "outputId": "0323496e-aff3-4aa5-8316-b242bb874a1d"
      },
      "execution_count": null,
      "outputs": [
        {
          "output_type": "display_data",
          "data": {
            "text/plain": [
              "<Figure size 1000x600 with 1 Axes>"
            ],
            "image/png": "[encoded data removed]"
          },
          "metadata": {}
        }
      ]
    },
    {
      "cell_type": "code",
      "source": [
        "#Crie um gráfico de espalhamento onde em um eixo está o número de vezes que um pedido foi realizado e no outro eixo está o preço do produto\n",
        "\n",
        "plt.figure(figsize=(8, 6))\n",
        "plt.scatter(chipo['quantity'], chipo['item_price'], color='green', alpha=0.5)\n",
        "plt.title('Gráfico de Dispersão: Número de Pedidos x Preço do Produto')\n",
        "plt.xlabel('Número de Pedidos')\n",
        "plt.ylabel('Preço do Produto')\n",
        "\n",
        "plt.show()"
      ],
      "metadata": {
        "colab": {
          "base_uri": "https://localhost:8080/",
          "height": 565
        },
        "id": "MwA3oTqcYvUO",
        "outputId": "cdf57a48-03ad-4bf2-e663-b7657290d542"
      },
      "execution_count": null,
      "outputs": [
        {
          "output_type": "display_data",
          "data": {
            "text/plain": [
              "<Figure size 800x600 with 1 Axes>"
            ],
            "image/png": "[encoded data removed]"
          },
          "metadata": {}
        }
      ]
    },
    {
      "cell_type": "markdown",
      "source": [
        "Baseado no gráfico gerado, os dois eixos estão correlacionados? Justifique.\n",
        "\n",
        "Sim, pois pode-se identificar que uma grande parte de produtos numa faixa de ate 10$ são pedidos poucas vezes."
      ],
      "metadata": {
        "id": "WedNn-Dj9drh"
      }
    }
  ]
}